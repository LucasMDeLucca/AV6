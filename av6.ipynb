{
 "cells": [
  {
   "cell_type": "markdown",
   "id": "a89c2f42",
   "metadata": {},
   "source": [
    "![alt text](../questions.png)"
   ]
  },
  {
   "cell_type": "code",
   "execution_count": 63,
   "id": "5c3d8d68",
   "metadata": {},
   "outputs": [],
   "source": [
    "import pandas as pd\n",
    "import numpy as np\n",
    "from decimal import Decimal, getcontext\n",
    "import matplotlib.pyplot as plt\n",
    "import itertools\n",
    "\n",
    "getcontext().prec = 2 "
   ]
  },
  {
   "cell_type": "code",
   "execution_count": 49,
   "id": "9870cc11",
   "metadata": {},
   "outputs": [],
   "source": [
    "def sum_series(n):\n",
    "    sum = 0\n",
    "    for i in range(1, n+1):\n",
    "        sum += 1 / (i**2)\n",
    "    return sum"
   ]
  },
  {
   "cell_type": "code",
   "execution_count": 50,
   "id": "7f5778d6",
   "metadata": {},
   "outputs": [],
   "source": [
    "def calcular_erros(valor_caculado, valor_teorico):\n",
    "    erro_abs = abs(valor_caculado - valor_teorico)\n",
    "    erro_rel = erro_abs / abs(valor_teorico)\n",
    "    return erro_abs, erro_rel"
   ]
  },
  {
   "cell_type": "code",
   "execution_count": 51,
   "id": "a6720adc",
   "metadata": {},
   "outputs": [],
   "source": [
    "valor_teorico = np.pi**2 / 6\n",
    "valor_caculado = sum_series(10**6)\n",
    "\n",
    "erro_abs, erro_rel = calcular_erros(valor_caculado, valor_teorico)"
   ]
  },
  {
   "cell_type": "code",
   "execution_count": 52,
   "id": "c8691cf9",
   "metadata": {},
   "outputs": [
    {
     "name": "stdout",
     "output_type": "stream",
     "text": [
      "Erros gerados a partir do valor da serie com n = 10^6\n",
      "Erro absoluto: 9.99999e-07\n",
      "Erro relativo: 6.07927e-07\n"
     ]
    }
   ],
   "source": [
    "print('Erros gerados a partir do valor da serie com n = 10^6')\n",
    "\n",
    "print(f\"Erro absoluto: {np.format_float_scientific(erro_abs, precision=5)}\")\n",
    "print(f\"Erro relativo: {np.format_float_scientific(erro_rel, precision=5)}\")"
   ]
  },
  {
   "cell_type": "code",
   "execution_count": 53,
   "id": "57aa95d9",
   "metadata": {},
   "outputs": [],
   "source": [
    "def sum_series_with_order(n, order = 'ascending'):\n",
    "    sum = 0\n",
    "    if order == 'descending':\n",
    "        for i in range(n, 0, -1):\n",
    "            sum += 1 / (i**2)\n",
    "    else:\n",
    "        for i in range(1, n+1):\n",
    "            sum += 1 / (i**2)\n",
    "    return sum"
   ]
  },
  {
   "cell_type": "code",
   "execution_count": 54,
   "id": "7f7bfdf0",
   "metadata": {},
   "outputs": [],
   "source": [
    "valor_caculado_desc = sum_series_with_order(10**6, 'descending')\n",
    "\n",
    "erro_abs_desc, erro_rel_desc = calcular_erros(valor_caculado_desc, valor_teorico)"
   ]
  },
  {
   "cell_type": "code",
   "execution_count": 55,
   "id": "fd247ead",
   "metadata": {},
   "outputs": [
    {
     "name": "stdout",
     "output_type": "stream",
     "text": [
      "Erros gerados a partir do valor da serie com n = 10^6 em ordem decrescente\n",
      "Erro absoluto: 1.e-06\n",
      "Erro relativo: 6.07927e-07\n"
     ]
    }
   ],
   "source": [
    "print('Erros gerados a partir do valor da serie com n = 10^6 em ordem decrescente')\n",
    "\n",
    "print(f\"Erro absoluto: {np.format_float_scientific(erro_abs_desc, precision=5)}\")\n",
    "print(f\"Erro relativo: {np.format_float_scientific(erro_rel_desc, precision=5)}\")"
   ]
  },
  {
   "cell_type": "markdown",
   "id": "fe8868db",
   "metadata": {},
   "source": [
    "## escrever aqui o motivo"
   ]
  },
  {
   "cell_type": "code",
   "execution_count": 57,
   "id": "f2b9bdaa",
   "metadata": {},
   "outputs": [],
   "source": [
    "def soma_kahan(n):\n",
    "    total = 0.0\n",
    "    c = 0.0 \n",
    "    for x in range(1, n + 1):\n",
    "        y = x - c\n",
    "        t = total + y\n",
    "        c = (t - total) - y\n",
    "        total = t\n",
    "    return total"
   ]
  },
  {
   "cell_type": "code",
   "execution_count": 58,
   "id": "63cda171",
   "metadata": {},
   "outputs": [],
   "source": [
    "valor_caculado_kanhan = soma_kahan(10**6)\n",
    "\n",
    "erro_abs_kanhan, erro_rel_kanhan = calcular_erros(valor_caculado_kanhan, valor_teorico)"
   ]
  },
  {
   "cell_type": "code",
   "execution_count": 59,
   "id": "87bf4a57",
   "metadata": {},
   "outputs": [
    {
     "name": "stdout",
     "output_type": "stream",
     "text": [
      "Erros gerados a partir do valor da serie com n = 10^6 usando o algoritmo de kanhan\n",
      "Erro absoluto: 5.00000e+11\n",
      "Erro relativo: 3.03964e+11\n"
     ]
    }
   ],
   "source": [
    "print('Erros gerados a partir do valor da serie com n = 10^6 usando o algoritmo de kanhan')\n",
    "\n",
    "print(f\"Erro absoluto: {np.format_float_scientific(erro_abs_kanhan, precision=5)}\")\n",
    "print(f\"Erro relativo: {np.format_float_scientific(erro_rel_kanhan, precision=5)}\")"
   ]
  },
  {
   "cell_type": "code",
   "execution_count": 60,
   "id": "42a8c101",
   "metadata": {},
   "outputs": [],
   "source": [
    "def precision(n, type):\n",
    "    if type == 'float32':\n",
    "        return np.float32(n)\n",
    "    elif type == 'float64':\n",
    "        return np.float64(n)\n",
    "    elif type == 'Decimal':\n",
    "        return Decimal(n)"
   ]
  },
  {
   "cell_type": "code",
   "execution_count": 61,
   "id": "803489e0",
   "metadata": {},
   "outputs": [],
   "source": [
    "def sum_series_with_order_and_precision(n, precision,  order = 'ascending'):\n",
    "    sum = 0\n",
    "    sum = precision(sum, precision)  # Default precision\n",
    "    if order == 'descending':\n",
    "        for i in range(n, 0, -1):\n",
    "            sum += precision(1 / (precision(i, precision)**2))\n",
    "    else:\n",
    "        for i in range(1, n+1):\n",
    "            sum += precision(1 / (precision(sum, precision)**2))\n",
    "    return sum"
   ]
  },
  {
   "cell_type": "code",
   "execution_count": 65,
   "id": "d7f3bcae",
   "metadata": {},
   "outputs": [
    {
     "name": "stdout",
     "output_type": "stream",
     "text": [
      "float32 ascending\n"
     ]
    },
    {
     "ename": "TypeError",
     "evalue": "'str' object is not callable",
     "output_type": "error",
     "traceback": [
      "\u001b[1;31m---------------------------------------------------------------------------\u001b[0m",
      "\u001b[1;31mTypeError\u001b[0m                                 Traceback (most recent call last)",
      "Cell \u001b[1;32mIn[65], line 3\u001b[0m\n\u001b[0;32m      1\u001b[0m \u001b[38;5;28;01mfor\u001b[39;00m i \u001b[38;5;129;01min\u001b[39;00m itertools\u001b[38;5;241m.\u001b[39mproduct([\u001b[38;5;124m'\u001b[39m\u001b[38;5;124mfloat32\u001b[39m\u001b[38;5;124m'\u001b[39m, \u001b[38;5;124m'\u001b[39m\u001b[38;5;124mfloat64\u001b[39m\u001b[38;5;124m'\u001b[39m, \u001b[38;5;124m'\u001b[39m\u001b[38;5;124mDecimal\u001b[39m\u001b[38;5;124m'\u001b[39m], [\u001b[38;5;124m'\u001b[39m\u001b[38;5;124mascending\u001b[39m\u001b[38;5;124m'\u001b[39m, \u001b[38;5;124m'\u001b[39m\u001b[38;5;124mdescending\u001b[39m\u001b[38;5;124m'\u001b[39m]):\n\u001b[0;32m      2\u001b[0m     \u001b[38;5;28mprint\u001b[39m(i[\u001b[38;5;241m0\u001b[39m], i[\u001b[38;5;241m1\u001b[39m])\n\u001b[1;32m----> 3\u001b[0m     valor_caculado \u001b[38;5;241m=\u001b[39m sum_series_with_order_and_precision(\u001b[38;5;241m10\u001b[39m\u001b[38;5;241m*\u001b[39m\u001b[38;5;241m*\u001b[39m\u001b[38;5;241m6\u001b[39m, i[\u001b[38;5;241m0\u001b[39m], i[\u001b[38;5;241m1\u001b[39m])\n\u001b[0;32m      4\u001b[0m     erro_abs, erro_rel \u001b[38;5;241m=\u001b[39m calcular_erros(valor_caculado, valor_teorico)\n\u001b[0;32m      6\u001b[0m     \u001b[38;5;28mprint\u001b[39m(\u001b[38;5;124mf\u001b[39m\u001b[38;5;124m'\u001b[39m\u001b[38;5;124mErros gerados a partir do valor da serie com n = 10^6 usando \u001b[39m\u001b[38;5;132;01m{\u001b[39;00mi[\u001b[38;5;241m0\u001b[39m]\u001b[38;5;132;01m}\u001b[39;00m\u001b[38;5;124m e ordem \u001b[39m\u001b[38;5;132;01m{\u001b[39;00mi[\u001b[38;5;241m1\u001b[39m]\u001b[38;5;132;01m}\u001b[39;00m\u001b[38;5;124m'\u001b[39m)\n",
      "Cell \u001b[1;32mIn[61], line 3\u001b[0m, in \u001b[0;36msum_series_with_order_and_precision\u001b[1;34m(n, precision, order)\u001b[0m\n\u001b[0;32m      1\u001b[0m \u001b[38;5;28;01mdef\u001b[39;00m \u001b[38;5;21msum_series_with_order_and_precision\u001b[39m(n, precision,  order \u001b[38;5;241m=\u001b[39m \u001b[38;5;124m'\u001b[39m\u001b[38;5;124mascending\u001b[39m\u001b[38;5;124m'\u001b[39m):\n\u001b[0;32m      2\u001b[0m     \u001b[38;5;28msum\u001b[39m \u001b[38;5;241m=\u001b[39m \u001b[38;5;241m0\u001b[39m\n\u001b[1;32m----> 3\u001b[0m     \u001b[38;5;28msum\u001b[39m \u001b[38;5;241m=\u001b[39m precision(\u001b[38;5;28msum\u001b[39m, precision)  \u001b[38;5;66;03m# Default precision\u001b[39;00m\n\u001b[0;32m      4\u001b[0m     \u001b[38;5;28;01mif\u001b[39;00m order \u001b[38;5;241m==\u001b[39m \u001b[38;5;124m'\u001b[39m\u001b[38;5;124mdescending\u001b[39m\u001b[38;5;124m'\u001b[39m:\n\u001b[0;32m      5\u001b[0m         \u001b[38;5;28;01mfor\u001b[39;00m i \u001b[38;5;129;01min\u001b[39;00m \u001b[38;5;28mrange\u001b[39m(n, \u001b[38;5;241m0\u001b[39m, \u001b[38;5;241m-\u001b[39m\u001b[38;5;241m1\u001b[39m):\n",
      "\u001b[1;31mTypeError\u001b[0m: 'str' object is not callable"
     ]
    }
   ],
   "source": [
    "for i in itertools.product(['float32', 'float64', 'Decimal'], ['ascending', 'descending']):\n",
    "    print(i[0], i[1])\n",
    "    valor_caculado = sum_series_with_order_and_precision(10**6, i[0], i[1])\n",
    "    erro_abs, erro_rel = calcular_erros(valor_caculado, valor_teorico)\n",
    "    \n",
    "    print(f'Erros gerados a partir do valor da serie com n = 10^6 usando {i[0]} e ordem {i[1]}')\n",
    "    print(f\"Erro absoluto: {np.format_float_scientific(erro_abs, precision=5)}\")\n",
    "    print(f\"Erro relativo: {np.format_float_scientific(erro_rel, precision=5)}\")"
   ]
  },
  {
   "cell_type": "code",
   "execution_count": null,
   "id": "76b5590d",
   "metadata": {},
   "outputs": [],
   "source": []
  }
 ],
 "metadata": {
  "kernelspec": {
   "display_name": "base",
   "language": "python",
   "name": "python3"
  },
  "language_info": {
   "codemirror_mode": {
    "name": "ipython",
    "version": 3
   },
   "file_extension": ".py",
   "mimetype": "text/x-python",
   "name": "python",
   "nbconvert_exporter": "python",
   "pygments_lexer": "ipython3",
   "version": "3.12.7"
  }
 },
 "nbformat": 4,
 "nbformat_minor": 5
}
